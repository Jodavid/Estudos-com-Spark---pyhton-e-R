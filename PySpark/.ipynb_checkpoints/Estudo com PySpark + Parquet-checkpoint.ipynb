{
 "cells": [
  {
   "cell_type": "markdown",
   "id": "56326890",
   "metadata": {},
   "source": [
    "---\n",
    "# Estudos com PySpark\n",
    "---\n",
    "\n",
    "#### Criado por: **Jodavid Ferreira**\n",
    "#### Data de criação: 02.07.2021\n",
    "\n",
    "---\n",
    "\n",
    "#### Objetivo:\n",
    "\n",
    "Avançar com os estudos utilizando as técnicas que utilizo no dia-a-dia, entretanto com o Spark e python;\n",
    "\n",
    "---\n",
    "\n",
    "#### Data da última atualização: 02.07.2021\n",
    "\n",
    "---"
   ]
  },
  {
   "cell_type": "markdown",
   "id": "8b128e2f",
   "metadata": {},
   "source": [
    "## Instalando a biblioteca pyspark\n",
    "---"
   ]
  },
  {
   "cell_type": "code",
   "execution_count": null,
   "id": "8997b7a8",
   "metadata": {},
   "outputs": [],
   "source": [
    "# ------------------------------------\n",
    "# Instalando a biblioteca pyspark\n",
    "# No terminal:\n",
    "# ------------\n",
    "# pip install pyspark\n",
    "# -----------------"
   ]
  },
  {
   "cell_type": "markdown",
   "id": "aeffdbc2",
   "metadata": {},
   "source": [
    "## Importando as bibliotecas necessárias\n",
    "---"
   ]
  },
  {
   "cell_type": "code",
   "execution_count": null,
   "id": "6558d791",
   "metadata": {},
   "outputs": [],
   "source": [
    "# ------------------------------------\n",
    "# Importanto as bibliotecas\n",
    "# -----------------\n",
    "from pyspark.sql import SparkSession\n",
    "# -----------------"
   ]
  },
  {
   "cell_type": "markdown",
   "id": "e68ec718",
   "metadata": {},
   "source": [
    "---\n",
    "### Iniciando uma sessão do SPARK\n",
    "---"
   ]
  },
  {
   "cell_type": "code",
   "execution_count": 4,
   "id": "b480abbb",
   "metadata": {},
   "outputs": [],
   "source": [
    "# ------------------------------------\n",
    "# Iniciando uma sessão do Spark\n",
    "# ----\n",
    "# obs:\n",
    "# appName: Nome do app para a sessão\n",
    "# -----------------\n",
    "spark = SparkSession \\\n",
    "        .builder \\\n",
    "        .appName(\"Python Spark create RDD example\") \\\n",
    "        .config(\"spark.some.config.option\", \"some-value\") \\\n",
    "        .getOrCreate()\n",
    "# -----------------"
   ]
  },
  {
   "cell_type": "markdown",
   "id": "4330fe5f",
   "metadata": {},
   "source": [
    "---\n",
    "### Criando um banco de dados dentro do python\n",
    "---"
   ]
  },
  {
   "cell_type": "code",
   "execution_count": 5,
   "id": "3d66cd8c",
   "metadata": {},
   "outputs": [],
   "source": [
    "# ------------------------------------\n",
    "# Criando um banco de dados dentro do python\n",
    "# ----\n",
    "# dimensão: 4 colunas e 3 linhas;\n",
    "# -----------------\n",
    "df = spark.sparkContext\\\n",
    "        .parallelize([(1, 2, 3, 'a b c'),\n",
    "                      (4, 5, 6, 'd e f'),\n",
    "                      (7, 8, 9, 'g h i')])\\\n",
    "        .toDF(['col1', 'col2', 'col3','col4'])\n",
    "# -----------------"
   ]
  },
  {
   "cell_type": "markdown",
   "id": "74f77f6b",
   "metadata": {},
   "source": [
    "---\n",
    "### Lendo um arquivo com extensão 'Parquet'\n",
    "---"
   ]
  },
  {
   "cell_type": "markdown",
   "id": "62ca1fe2",
   "metadata": {},
   "source": [
    "##### Base de dados : \"userdata\"\n",
    "\n",
    "* Informações sobre a Base de dados:\n",
    "    * Possui 5.000 linhas;\n",
    "    * Possui 13 variáveis:\n",
    "        1.\t\tregistration_dttm |\ttimestamp\n",
    "        2.\t\tid \t\t|\tint\n",
    "        3.\t\tfirst_name \t|\tstring\n",
    "        4.\t\tlast_name \t|\tstring\n",
    "        5.\t\temail \t\t|\tstring\n",
    "        6.\t\tgender \t\t|\tstring\n",
    "        7.\t\tip_address \t|\tstring\n",
    "        8.\t\tcc \t\t|\tstring\n",
    "        9.\t\tcountry \t|\tstring\n",
    "        10.\t\tbirthdate \t|\tstring\n",
    "        11.\t\tsalary \t\t|\tdouble\n",
    "        12.\t\ttitle \t\t|\tstring\n",
    "        13.\t\tcomments \t|\tstring\n",
    " ---"
   ]
  },
  {
   "cell_type": "code",
   "execution_count": 10,
   "id": "825d1e57",
   "metadata": {},
   "outputs": [],
   "source": [
    "# ------------------------------------\n",
    "# Ler dados com extensão Parquet\n",
    "# ----\n",
    "# localização da base de dados:\n",
    "# ../banco de dados - exemplo/userdata/\n",
    "# ----\n",
    "# Número de linhas: 5000\n",
    "# -----------------\n",
    "dados = spark.read.parquet(\"../banco de dados - exemplo/userdata/\")\n",
    "# -----------------"
   ]
  },
  {
   "cell_type": "code",
   "execution_count": 14,
   "id": "e0f4ea2b",
   "metadata": {
    "scrolled": true
   },
   "outputs": [
    {
     "data": {
      "text/plain": [
       "5000"
      ]
     },
     "execution_count": 14,
     "metadata": {},
     "output_type": "execute_result"
    }
   ],
   "source": [
    "# ------------------------------------\n",
    "# Verificando a quantidade de linhas\n",
    "# -----------------\n",
    "dados.count()\n",
    "# -----------------"
   ]
  },
  {
   "cell_type": "code",
   "execution_count": 15,
   "id": "0d5de7f5",
   "metadata": {},
   "outputs": [
    {
     "name": "stdout",
     "output_type": "stream",
     "text": [
      "root\n",
      " |-- registration_dttm: timestamp (nullable = true)\n",
      " |-- id: integer (nullable = true)\n",
      " |-- first_name: string (nullable = true)\n",
      " |-- last_name: string (nullable = true)\n",
      " |-- email: string (nullable = true)\n",
      " |-- gender: string (nullable = true)\n",
      " |-- ip_address: string (nullable = true)\n",
      " |-- cc: string (nullable = true)\n",
      " |-- country: string (nullable = true)\n",
      " |-- birthdate: string (nullable = true)\n",
      " |-- salary: double (nullable = true)\n",
      " |-- title: string (nullable = true)\n",
      " |-- comments: string (nullable = true)\n",
      "\n"
     ]
    }
   ],
   "source": [
    "# ------------------------------------\n",
    "# Verificando as colunas\n",
    "# -----------------\n",
    "dados.printSchema()\n",
    "# -----------------"
   ]
  },
  {
   "cell_type": "code",
   "execution_count": 16,
   "id": "cebe8748",
   "metadata": {},
   "outputs": [
    {
     "name": "stdout",
     "output_type": "stream",
     "text": [
      "+----------+\n",
      "|first_name|\n",
      "+----------+\n",
      "|    Amanda|\n",
      "|    Albert|\n",
      "|    Evelyn|\n",
      "|    Denise|\n",
      "|    Carlos|\n",
      "|   Kathryn|\n",
      "|    Samuel|\n",
      "|     Harry|\n",
      "|      Jose|\n",
      "|     Emily|\n",
      "|     Susan|\n",
      "|     Alice|\n",
      "|    Justin|\n",
      "|     Kathy|\n",
      "|   Dorothy|\n",
      "|     Bruce|\n",
      "|     Emily|\n",
      "|   Stephen|\n",
      "|  Clarence|\n",
      "|   Rebecca|\n",
      "+----------+\n",
      "only showing top 20 rows\n",
      "\n"
     ]
    }
   ],
   "source": [
    "# ------------------------------------\n",
    "# Mostrando as 20 linhas da variável\n",
    "# \"first_name\"\n",
    "# -----------------\n",
    "dados.select(\"first_name\").show()\n",
    "# -----------------"
   ]
  },
  {
   "cell_type": "code",
   "execution_count": 18,
   "id": "163783ac",
   "metadata": {
    "scrolled": true
   },
   "outputs": [
    {
     "name": "stdout",
     "output_type": "stream",
     "text": [
      "+-------------------+---+----------+---------+----------------+------+--------------+----------------+---------+---------+---------+----------------+--------+\n",
      "|  registration_dttm| id|first_name|last_name|           email|gender|    ip_address|              cc|  country|birthdate|   salary|           title|comments|\n",
      "+-------------------+---+----------+---------+----------------+------+--------------+----------------+---------+---------+---------+----------------+--------+\n",
      "|2016-02-03 04:55:29|  1|    Amanda|   Jordan|ajordan0@com.com|Female|   1.197.201.2|6759521864920116|Indonesia| 3/8/1971| 49756.53|Internal Auditor|   1E+02|\n",
      "|2016-02-03 14:04:03|  2|    Albert|  Freeman| afreeman1@is.gd|  Male|218.111.175.34|                |   Canada|1/16/1968|150280.17|   Accountant IV|        |\n",
      "+-------------------+---+----------+---------+----------------+------+--------------+----------------+---------+---------+---------+----------------+--------+\n",
      "only showing top 2 rows\n",
      "\n"
     ]
    }
   ],
   "source": [
    "dados.show(2,True)"
   ]
  },
  {
   "cell_type": "code",
   "execution_count": null,
   "id": "d00ed5d7",
   "metadata": {},
   "outputs": [],
   "source": []
  }
 ],
 "metadata": {
  "kernelspec": {
   "display_name": "Python 3",
   "language": "python",
   "name": "python3"
  },
  "language_info": {
   "codemirror_mode": {
    "name": "ipython",
    "version": 3
   },
   "file_extension": ".py",
   "mimetype": "text/x-python",
   "name": "python",
   "nbconvert_exporter": "python",
   "pygments_lexer": "ipython3",
   "version": "3.7.10"
  }
 },
 "nbformat": 4,
 "nbformat_minor": 5
}
