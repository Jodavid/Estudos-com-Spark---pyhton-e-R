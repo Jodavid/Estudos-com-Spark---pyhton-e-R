{
 "cells": [
  {
   "cell_type": "markdown",
   "metadata": {},
   "source": [
    "---\n",
    "# Estudos com PySpark\n",
    "---\n",
    "\n",
    "#### Criado por: **Jodavid Ferreira**\n",
    "#### Data de criação: 02.07.2021\n",
    "\n",
    "---\n",
    "\n",
    "#### Objetivo:\n",
    "\n",
    "Avançar com os estudos utilizando as técnicas que utilizo no dia-a-dia, entretanto com o Spark e python;\n",
    "\n",
    "---\n",
    "\n",
    "#### Data da última atualização: 03.07.2021\n",
    "\n",
    "---"
   ]
  },
  {
   "cell_type": "markdown",
   "metadata": {},
   "source": [
    "## 1. Instalando a biblioteca pyspark\n",
    "---"
   ]
  },
  {
   "cell_type": "code",
   "execution_count": 1,
   "metadata": {},
   "outputs": [],
   "source": [
    "# ------------------------------------\n",
    "# Instalando a biblioteca pyspark\n",
    "# No terminal:\n",
    "# ------------\n",
    "# pip install pyspark\n",
    "# -----------------"
   ]
  },
  {
   "cell_type": "markdown",
   "metadata": {},
   "source": [
    "## 2. Importando as bibliotecas necessárias\n",
    "---"
   ]
  },
  {
   "cell_type": "code",
   "execution_count": 2,
   "metadata": {},
   "outputs": [],
   "source": [
    "# ------------------------------------\n",
    "# Importanto as bibliotecas\n",
    "# -----------------\n",
    "from pyspark.sql import SparkSession\n",
    "#----------\n",
    "from pyspark.sql.functions import col, skewness, kurtosis # Para assimetria e Curtose\n",
    "#----------\n",
    "import numpy as np # Importanto Numpy\n",
    "#----------\n",
    "import matplotlib.pyplot as plt # Importanto Numpy\n",
    "#----------\n",
    "import seaborn as sns # Importando Seaborn\n",
    "# -----------------"
   ]
  },
  {
   "cell_type": "markdown",
   "metadata": {},
   "source": [
    "---\n",
    "### 2.1 Iniciando uma sessão do SPARK\n",
    "---"
   ]
  },
  {
   "cell_type": "code",
   "execution_count": 4,
   "metadata": {},
   "outputs": [],
   "source": [
    "# ------------------------------------\n",
    "# Iniciando uma sessão do Spark\n",
    "# ----\n",
    "# obs:\n",
    "# appName: Nome do app para a sessão\n",
    "# -----------------\n",
    "spark = SparkSession \\\n",
    "        .builder \\\n",
    "        .appName(\"Estudos com Spark - Jodavid Ferreira\") \\\n",
    "        .config(\"spark.some.config.option\", \"some-value\") \\\n",
    "        .getOrCreate()\n",
    "# -----------------"
   ]
  },
  {
   "cell_type": "markdown",
   "metadata": {},
   "source": [
    "---\n",
    "### 2.2 Criando um banco de dados dentro do python\n",
    "---"
   ]
  },
  {
   "cell_type": "code",
   "execution_count": 5,
   "metadata": {},
   "outputs": [],
   "source": [
    "## ------------------------------------\n",
    "## Criando um banco de dados dentro do python\n",
    "## ----\n",
    "## dimensão: 4 colunas e 3 linhas;\n",
    "## -----------------\n",
    "#df = spark.sparkContext\\\n",
    "#        .parallelize([(1, 2, 3, 'a b c'),\n",
    "#                      (4, 5, 6, 'd e f'),\n",
    "#                      (7, 8, 9, 'g h i')])\\\n",
    "#        .toDF(['col1', 'col2', 'col3','col4'])\n",
    "## -----------------"
   ]
  },
  {
   "cell_type": "markdown",
   "metadata": {},
   "source": [
    "---\n",
    "### 2.3 Lendo um arquivo com extensão 'Parquet'\n",
    "---"
   ]
  },
  {
   "cell_type": "markdown",
   "metadata": {},
   "source": [
    "##### Base de dados : \"userdata\"\n",
    "\n",
    "* Informações sobre a Base de dados:\n",
    "    * Possui 5.000 linhas;\n",
    "    * Possui 13 variáveis:\n",
    "        1.\t\tregistration_dttm |\ttimestamp\n",
    "        2.\t\tid \t\t|\tint\n",
    "        3.\t\tfirst_name \t|\tstring\n",
    "        4.\t\tlast_name \t|\tstring\n",
    "        5.\t\temail \t\t|\tstring\n",
    "        6.\t\tgender \t\t|\tstring\n",
    "        7.\t\tip_address \t|\tstring\n",
    "        8.\t\tcc \t\t|\tstring\n",
    "        9.\t\tcountry \t|\tstring\n",
    "        10.\t\tbirthdate \t|\tstring\n",
    "        11.\t\tsalary \t\t|\tdouble\n",
    "        12.\t\ttitle \t\t|\tstring\n",
    "        13.\t\tcomments \t|\tstring\n",
    " ---"
   ]
  },
  {
   "cell_type": "code",
   "execution_count": 6,
   "metadata": {},
   "outputs": [],
   "source": [
    "# ------------------------------------\n",
    "# Ler dados com extensão Parquet\n",
    "# ----\n",
    "# localização da base de dados:\n",
    "# ../banco de dados - exemplo/userdata/\n",
    "# ----\n",
    "# Número de linhas: 5000\n",
    "# -----------------\n",
    "dados = spark.read.parquet(\"../banco de dados - exemplo/userdata/\")\n",
    "# -----------------"
   ]
  },
  {
   "cell_type": "code",
   "execution_count": 7,
   "metadata": {
    "scrolled": true
   },
   "outputs": [
    {
     "data": {
      "text/plain": [
       "5000"
      ]
     },
     "execution_count": 7,
     "metadata": {},
     "output_type": "execute_result"
    }
   ],
   "source": [
    "# ------------------------------------\n",
    "# Verificando a quantidade de linhas\n",
    "# -----------------\n",
    "dados.count()\n",
    "# -----------------"
   ]
  },
  {
   "cell_type": "code",
   "execution_count": 8,
   "metadata": {},
   "outputs": [
    {
     "name": "stdout",
     "output_type": "stream",
     "text": [
      "root\n",
      " |-- registration_dttm: timestamp (nullable = true)\n",
      " |-- id: integer (nullable = true)\n",
      " |-- first_name: string (nullable = true)\n",
      " |-- last_name: string (nullable = true)\n",
      " |-- email: string (nullable = true)\n",
      " |-- gender: string (nullable = true)\n",
      " |-- ip_address: string (nullable = true)\n",
      " |-- cc: string (nullable = true)\n",
      " |-- country: string (nullable = true)\n",
      " |-- birthdate: string (nullable = true)\n",
      " |-- salary: double (nullable = true)\n",
      " |-- title: string (nullable = true)\n",
      " |-- comments: string (nullable = true)\n",
      "\n"
     ]
    }
   ],
   "source": [
    "# ------------------------------------\n",
    "# Verificando as colunas\n",
    "# -----------------\n",
    "dados.printSchema()\n",
    "# -----------------"
   ]
  },
  {
   "cell_type": "code",
   "execution_count": 9,
   "metadata": {},
   "outputs": [
    {
     "name": "stdout",
     "output_type": "stream",
     "text": [
      "+----------+\n",
      "|first_name|\n",
      "+----------+\n",
      "|    Amanda|\n",
      "|    Albert|\n",
      "|    Evelyn|\n",
      "|    Denise|\n",
      "|    Carlos|\n",
      "|   Kathryn|\n",
      "|    Samuel|\n",
      "|     Harry|\n",
      "|      Jose|\n",
      "|     Emily|\n",
      "|     Susan|\n",
      "|     Alice|\n",
      "|    Justin|\n",
      "|     Kathy|\n",
      "|   Dorothy|\n",
      "|     Bruce|\n",
      "|     Emily|\n",
      "|   Stephen|\n",
      "|  Clarence|\n",
      "|   Rebecca|\n",
      "+----------+\n",
      "only showing top 20 rows\n",
      "\n"
     ]
    }
   ],
   "source": [
    "# ------------------------------------\n",
    "# Mostrando as 20 linhas da variável\n",
    "# \"first_name\"\n",
    "# -----------------\n",
    "dados.select(\"first_name\").show()\n",
    "# -----------------"
   ]
  },
  {
   "cell_type": "code",
   "execution_count": 10,
   "metadata": {
    "scrolled": true
   },
   "outputs": [
    {
     "name": "stdout",
     "output_type": "stream",
     "text": [
      "+-------------------+---+----------+---------+----------------+------+--------------+----------------+---------+---------+---------+----------------+--------+\n",
      "|  registration_dttm| id|first_name|last_name|           email|gender|    ip_address|              cc|  country|birthdate|   salary|           title|comments|\n",
      "+-------------------+---+----------+---------+----------------+------+--------------+----------------+---------+---------+---------+----------------+--------+\n",
      "|2016-02-03 04:55:29|  1|    Amanda|   Jordan|ajordan0@com.com|Female|   1.197.201.2|6759521864920116|Indonesia| 3/8/1971| 49756.53|Internal Auditor|   1E+02|\n",
      "|2016-02-03 14:04:03|  2|    Albert|  Freeman| afreeman1@is.gd|  Male|218.111.175.34|                |   Canada|1/16/1968|150280.17|   Accountant IV|        |\n",
      "+-------------------+---+----------+---------+----------------+------+--------------+----------------+---------+---------+---------+----------------+--------+\n",
      "only showing top 2 rows\n",
      "\n"
     ]
    }
   ],
   "source": [
    "dados.show(2,True)"
   ]
  },
  {
   "cell_type": "markdown",
   "metadata": {},
   "source": [
    "---\n",
    "## 3 Análise Exploratória - Descritiva\n",
    "---"
   ]
  },
  {
   "cell_type": "code",
   "execution_count": 11,
   "metadata": {},
   "outputs": [
    {
     "name": "stdout",
     "output_type": "stream",
     "text": [
      "+-------+-----------------+\n",
      "|summary|           salary|\n",
      "+-------+-----------------+\n",
      "|  count|             4689|\n",
      "|   mean|150772.2228897419|\n",
      "| stddev|78171.51306234104|\n",
      "|    min|         12068.96|\n",
      "|    max|        286735.82|\n",
      "+-------+-----------------+\n",
      "\n"
     ]
    }
   ],
   "source": [
    "# ------------------------------------\n",
    "# Selecionando as colunas para análise\n",
    "# A única variável do banco que é numérica é \n",
    "# salary\"\n",
    "# -----------------\n",
    "colunas_selecionadas = [\"salary\"]\n",
    "# ------\n",
    "dados.select(colunas_selecionadas).describe().show()"
   ]
  },
  {
   "cell_type": "code",
   "execution_count": 12,
   "metadata": {},
   "outputs": [
    {
     "name": "stdout",
     "output_type": "stream",
     "text": [
      "+--------------------+-------------------+\n",
      "|    skewness(salary)|   kurtosis(salary)|\n",
      "+--------------------+-------------------+\n",
      "|-0.01515158775612...|-1.1670881267541617|\n",
      "+--------------------+-------------------+\n",
      "\n"
     ]
    }
   ],
   "source": [
    "# ------------------------------------\n",
    "# Assimetria e Curtose\n",
    "# -----------------\n",
    "colunas_selecionadas = \"salary\"\n",
    "# ------\n",
    "dados.select(skewness(colunas_selecionadas),kurtosis(colunas_selecionadas)).show()\n",
    "# ------"
   ]
  },
  {
   "cell_type": "markdown",
   "metadata": {},
   "source": [
    "### 3.1 Fazendo um Histograma\n",
    "---"
   ]
  },
  {
   "cell_type": "code",
   "execution_count": 13,
   "metadata": {},
   "outputs": [
    {
     "data": {
      "image/png": "[encoded data removed]",
      "text/plain": [
       "<Figure size 720x576 with 1 Axes>"
      ]
     },
     "metadata": {
      "needs_background": "light"
     },
     "output_type": "display_data"
    }
   ],
   "source": [
    "# ------------------------------------\n",
    "# Gerando um histograma\n",
    "# -----------------\n",
    "colunas_selecionadas = \"salary\"\n",
    "# ------\n",
    "plot_data = dados.select(colunas_selecionadas).toPandas()\n",
    "x = plot_data[colunas_selecionadas]\n",
    "bins = np.arange(0, 287000, 25000.0)\n",
    "# ------\n",
    "hist, bin_edges = np.histogram(x,bins,weights=np.zeros_like(x) + 100. / x.size) # make the histogram\n",
    "# -----\n",
    "fig = plt.figure(figsize=(10, 8))\n",
    "ax = fig.add_subplot(1, 1, 1)\n",
    "#-----\n",
    "# Plot the histogram heights against integers on the x axis\n",
    "ax.bar(range(len(hist)),hist,width=1,alpha=0.8,ec ='black',color = 'gold')\n",
    "#-----\n",
    "# Set the ticks to the middle of the bars\n",
    "ax.set_xticks([0.5+i for i,j in enumerate(hist)])\n",
    "#-----\n",
    "# Set the xticklabels to a string that tells us what the bin edges were\n",
    "labels =['{}'.format(bins[i+1]) for i,j in enumerate(hist)]\n",
    "labels.insert(0,'0')\n",
    "#-----\n",
    "plt.xlabel(colunas_selecionadas)\n",
    "plt.ylabel('percentage')\n",
    "plt.show()"
   ]
  },
  {
   "cell_type": "markdown",
   "metadata": {},
   "source": [
    "### 3.2 Fazendo um BoxPlot\n",
    "---"
   ]
  },
  {
   "cell_type": "code",
   "execution_count": 14,
   "metadata": {},
   "outputs": [
    {
     "data": {
      "image/png": "[encoded data removed]",
      "text/plain": [
       "<Figure size 1440x576 with 2 Axes>"
      ]
     },
     "metadata": {
      "needs_background": "light"
     },
     "output_type": "display_data"
    }
   ],
   "source": [
    "# ------------------------------------\n",
    "# Gerando um BoxPlot\n",
    "# -----------------\n",
    "colunas_selecionadas = \"salary\"\n",
    "# ------\n",
    "x = dados.select(colunas_selecionadas).toPandas()\n",
    "#-----\n",
    "fig = plt.figure(figsize=(20, 8))\n",
    "#-----\n",
    "ax = fig.add_subplot(1, 2, 1)\n",
    "ax = sns.boxplot(data=x)\n",
    "ax = fig.add_subplot(1, 2, 2)\n",
    "ax = sns.violinplot(data=x)"
   ]
  },
  {
   "cell_type": "markdown",
   "metadata": {},
   "source": [
    "### 3.3 Fazendo um agrupamento e gráfico de barras\n",
    "---"
   ]
  },
  {
   "cell_type": "code",
   "execution_count": 52,
   "metadata": {},
   "outputs": [],
   "source": [
    "# ------------------------------------\n",
    "# Tabela de Frequencias e\n",
    "# Gráfico de Barras\n",
    "# -------\n",
    "# Funções Necessárias\n",
    "from pyspark.sql import functions as F\n",
    "from pyspark.sql.functions import rank, sum, col\n",
    "from pyspark.sql import Window\n",
    "# -------\n",
    "window = Window.rowsBetween(Window.unboundedPreceding,Window.unboundedFollowing)\n",
    "# --\n",
    "DadosAgrupados = dados.select(['gender', 'salary']).\\\n",
    "    groupBy('gender').\\\n",
    "    agg(F.count('salary').alias('salary_num'),\n",
    "        F.mean('salary').alias('salary_mean'),\n",
    "        F.min('salary').alias('salary_min'),\n",
    "        F.max('salary').alias('salary_max')).\\\n",
    "    withColumn('total', sum(col('salary_num')).over(window)).\\\n",
    "    withColumn('Percent', col('salary_num')*100/col('total')).\\\n",
    "    drop(col('total')\n",
    "    )\n",
    "# --\n"
   ]
  },
  {
   "cell_type": "code",
   "execution_count": 53,
   "metadata": {},
   "outputs": [
    {
     "name": "stdout",
     "output_type": "stream",
     "text": [
      "+------+----------+------------------+----------+----------+----------------+\n",
      "|gender|salary_num|       salary_mean|salary_min|salary_max|         Percent|\n",
      "+------+----------+------------------+----------+----------+----------------+\n",
      "|Female|      2391|147013.72066499369|  12121.98| 286735.82|50.9916826615483|\n",
      "|  Male|      2298|154682.83160139245|  12068.96| 286388.01|49.0083173384517|\n",
      "|      |         0|              null|      null|      null|             0.0|\n",
      "+------+----------+------------------+----------+----------+----------------+\n",
      "\n"
     ]
    }
   ],
   "source": [
    "DadosAgrupados.show()\n"
   ]
  },
  {
   "cell_type": "code",
   "execution_count": 54,
   "metadata": {},
   "outputs": [
    {
     "data": {
      "image/png": "[encoded data removed]",
      "text/plain": [
       "<Figure size 720x576 with 1 Axes>"
      ]
     },
     "metadata": {
      "needs_background": "light"
     },
     "output_type": "display_data"
    }
   ],
   "source": [
    "# ------------------------------------\n",
    "# Bar Plot - para os dados agrupados\n",
    "# ----------------\n",
    "plot_data = DadosAgrupados.toPandas()\n",
    "# ----------------\n",
    "labels = plot_data.gender\n",
    "missing = plot_data.Percent\n",
    "ind = [x for x, _ in enumerate(labels)]\n",
    "# ---------\n",
    "plt.figure(figsize=(10,8))\n",
    "plt.bar(ind, missing, width=0.8, label='missing', color='gold')\n",
    "\n",
    "plt.xticks(ind, labels)\n",
    "plt.ylabel(\"percentage\")\n",
    "plt.show()\n"
   ]
  },
  {
   "cell_type": "code",
   "execution_count": null,
   "metadata": {},
   "outputs": [],
   "source": []
  }
 ],
 "metadata": {
  "interpreter": {
   "hash": "4e62f0072a1fcf0b17f2acf6bacf09df9041b5e6e62173bc99c9715c7066b163"
  },
  "kernelspec": {
   "display_name": "Python 3.7.10 64-bit",
   "name": "python3"
  },
  "language_info": {
   "codemirror_mode": {
    "name": "ipython",
    "version": 3
   },
   "file_extension": ".py",
   "mimetype": "text/x-python",
   "name": "python",
   "nbconvert_exporter": "python",
   "pygments_lexer": "ipython3",
   "version": "3.7.10"
  }
 },
 "nbformat": 4,
 "nbformat_minor": 5
}